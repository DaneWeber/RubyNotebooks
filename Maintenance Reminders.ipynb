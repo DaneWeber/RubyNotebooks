{
 "cells": [
  {
   "cell_type": "code",
   "execution_count": 14,
   "metadata": {},
   "outputs": [
    {
     "name": "stdout",
     "output_type": "stream",
     "text": [
      "2017-07-28\n",
      "2017-07-26\n",
      "2017-07-28\n",
      "Check credit card statement.\n"
     ]
    }
   ],
   "source": [
    "# require 'date'\n",
    "class Chore\n",
    "  attr_accessor :description, :interval\n",
    "    \n",
    "  def initialize (description:, interval:)\n",
    "    @description = description\n",
    "    @interval = interval\n",
    "    @lastdone = Date.today\n",
    "  end\n",
    "  def next\n",
    "    return @lastdone + @interval\n",
    "  end\n",
    "  def last\n",
    "    return @lastdone\n",
    "  end\n",
    "  def reset\n",
    "    @lastdone = Date.today\n",
    "  end\n",
    "  def late_entry(days)\n",
    "    @lastdone -= days\n",
    "  end\n",
    "end\n",
    "test = Chore.new(description: 'Check credit card statement.', interval: 9)\n",
    "puts test.next.strftime('%Y-%m-%d')\n",
    "test.late_entry(2)\n",
    "puts test.next.strftime('%Y-%m-%d')\n",
    "test.reset\n",
    "puts test.next.strftime('%Y-%m-%d')\n",
    "puts test.description"
   ]
  },
  {
   "cell_type": "markdown",
   "metadata": {},
   "source": [
    "Array of objects."
   ]
  },
  {
   "cell_type": "code",
   "execution_count": 15,
   "metadata": {},
   "outputs": [
    {
     "name": "stdout",
     "output_type": "stream",
     "text": [
      "[\"2017-10-26\", \"2017-07-20\", \"2017-08-18\"]\n",
      "[\"Change air filter\", \"Submit timesheet\", \"Submit expenses\"]\n"
     ]
    }
   ],
   "source": [
    "chore_list = Array.new\n",
    "chore_list.push ( Chore.new(description: 'Change air filter', interval: 99) )\n",
    "chore_list.push ( Chore.new(description: 'Submit timesheet', interval: 1) )\n",
    "chore_list.push ( Chore.new(description: 'Submit expenses', interval: 30) )\n",
    "puts chore_list.map{ |x| x.next.strftime('%Y-%m-%d')}\n",
    "puts chore_list.map{ |x| x.description}"
   ]
  },
  {
   "cell_type": "code",
   "execution_count": 16,
   "metadata": {},
   "outputs": [
    {
     "data": {
      "text/plain": [
       "#<Chore:0x00000002366120 @description=\"Submit timesheet\", @interval=1, @lastdone=Wed, 19 Jul 2017>"
      ]
     },
     "execution_count": 16,
     "metadata": {},
     "output_type": "execute_result"
    }
   ],
   "source": [
    "chore_list[1]"
   ]
  },
  {
   "cell_type": "code",
   "execution_count": 17,
   "metadata": {},
   "outputs": [
    {
     "name": "stdout",
     "output_type": "stream",
     "text": [
      "[#<Chore:0x000000023662d8 @description=\"Change air filter\", @interval=99, @lastdone=Wed, 19 Jul 2017>, #<Chore:0x00000002365f68 @description=\"Submit expenses\", @interval=30, @lastdone=Wed, 19 Jul 2017>]\n"
     ]
    }
   ],
   "source": [
    "chore_list.delete_at(1)\n",
    "puts chore_list"
   ]
  },
  {
   "cell_type": "code",
   "execution_count": 18,
   "metadata": {},
   "outputs": [
    {
     "data": {
      "text/plain": [
       "2017-07-20 10:00:00 -0400"
      ]
     },
     "execution_count": 18,
     "metadata": {},
     "output_type": "execute_result"
    }
   ],
   "source": [
    "require 'business_time'\n",
    "1.business_hours.from_now"
   ]
  },
  {
   "cell_type": "code",
   "execution_count": 19,
   "metadata": {},
   "outputs": [
    {
     "data": {
      "text/plain": [
       "2017-07-21 09:00:00 -0400"
      ]
     },
     "execution_count": 19,
     "metadata": {},
     "output_type": "execute_result"
    }
   ],
   "source": [
    "1.business_day.from_now "
   ]
  },
  {
   "cell_type": "code",
   "execution_count": 20,
   "metadata": {},
   "outputs": [
    {
     "data": {
      "text/plain": [
       "1"
      ]
     },
     "execution_count": 20,
     "metadata": {},
     "output_type": "execute_result"
    }
   ],
   "source": [
    "friday = Date.parse(\"December 24, 2010\")\n",
    "monday = Date.parse(\"December 27, 2010\")\n",
    "friday.business_days_until(monday) #=> 1"
   ]
  },
  {
   "cell_type": "code",
   "execution_count": 21,
   "metadata": {},
   "outputs": [
    {
     "data": {
      "text/plain": [
       "Wed, 19 Jul 2017"
      ]
     },
     "execution_count": 21,
     "metadata": {},
     "output_type": "execute_result"
    }
   ],
   "source": [
    "Date.today"
   ]
  },
  {
   "cell_type": "code",
   "execution_count": 22,
   "metadata": {},
   "outputs": [
    {
     "data": {
      "text/plain": [
       "Thu, 20 Jul 2017"
      ]
     },
     "execution_count": 22,
     "metadata": {},
     "output_type": "execute_result"
    }
   ],
   "source": [
    "Date.today + 1"
   ]
  },
  {
   "cell_type": "code",
   "execution_count": 23,
   "metadata": {},
   "outputs": [
    {
     "data": {
      "text/plain": [
       "2017-07-19 17:04:58 -0400"
      ]
     },
     "execution_count": 23,
     "metadata": {},
     "output_type": "execute_result"
    }
   ],
   "source": [
    "Time.now"
   ]
  },
  {
   "cell_type": "code",
   "execution_count": 32,
   "metadata": {},
   "outputs": [
    {
     "data": {
      "text/plain": [
       "[[1, 2, 3], [1, 2, 4], [1, 2, 5], [1, 3, 4], [1, 3, 5], [1, 4, 5], [2, 3, 4], [2, 3, 5], [2, 4, 5], [3, 4, 5]]"
      ]
     },
     "execution_count": 32,
     "metadata": {},
     "output_type": "execute_result"
    }
   ],
   "source": [
    "[1, 2, 3, 4, 5].combination(3).to_a"
   ]
  },
  {
   "cell_type": "code",
   "execution_count": null,
   "metadata": {
    "collapsed": true
   },
   "outputs": [],
   "source": []
  },
  {
   "cell_type": "code",
   "execution_count": null,
   "metadata": {
    "collapsed": true
   },
   "outputs": [],
   "source": []
  }
 ],
 "metadata": {
  "kernelspec": {
   "display_name": "Ruby 2.3.1",
   "language": "ruby",
   "name": "ruby"
  },
  "language_info": {
   "file_extension": ".rb",
   "mimetype": "application/x-ruby",
   "name": "ruby",
   "version": "2.3.1"
  }
 },
 "nbformat": 4,
 "nbformat_minor": 2
}
