{
 "cells": [
  {
   "cell_type": "code",
   "execution_count": 51,
   "metadata": {},
   "outputs": [
    {
     "name": "stdout",
     "output_type": "stream",
     "text": [
      "2017-07-01\n",
      "2017-06-29\n",
      "2017-07-01\n",
      "Check credit card statement.\n"
     ]
    }
   ],
   "source": [
    "require 'date'\n",
    "class Chore\n",
    "  def initialize (description, interval)\n",
    "    @description = description\n",
    "    @interval = interval\n",
    "    @lastdone = Date.today\n",
    "  end\n",
    "  def next\n",
    "    return @lastdone + @interval\n",
    "  end\n",
    "  def last\n",
    "    return @lastdone\n",
    "  end\n",
    "  def description\n",
    "    return @description\n",
    "  end\n",
    "  def reset\n",
    "    @lastdone = Date.today\n",
    "  end\n",
    "  def late_entry(days)\n",
    "    @lastdone -= days\n",
    "  end\n",
    "end\n",
    "test = Chore.new('Check credit card statement.', 9)\n",
    "puts test.next.strftime('%Y-%m-%d')\n",
    "test.late_entry(2)\n",
    "puts test.next.strftime('%Y-%m-%d')\n",
    "test.reset\n",
    "puts test.next.strftime('%Y-%m-%d')\n",
    "puts test.description"
   ]
  },
  {
   "cell_type": "markdown",
   "metadata": {},
   "source": [
    "Array of objects."
   ]
  },
  {
   "cell_type": "code",
   "execution_count": 52,
   "metadata": {},
   "outputs": [
    {
     "name": "stdout",
     "output_type": "stream",
     "text": [
      "[\"2017-09-29\", \"2017-06-23\", \"2017-07-22\"]\n",
      "[\"Change air filter\", \"Submit timesheet\", \"Submit expenses\"]\n"
     ]
    }
   ],
   "source": [
    "chore_list = Array.new\n",
    "chore_list.push ( Chore.new('Change air filter', 99) )\n",
    "chore_list.push ( Chore.new('Submit timesheet', 1) )\n",
    "chore_list.push ( Chore.new('Submit expenses', 30) )\n",
    "puts chore_list.map{ |x| x.next.strftime('%Y-%m-%d')}\n",
    "puts chore_list.map{ |x| x.description}"
   ]
  },
  {
   "cell_type": "code",
   "execution_count": 43,
   "metadata": {},
   "outputs": [
    {
     "data": {
      "text/plain": [
       "#<Chore:0x000000026f6a88 @interval=1, @lastdone=#<Date: 2017-06-22 ((2457927j,0s,0n),+0s,2299161j)>, @description=\"\">"
      ]
     },
     "execution_count": 43,
     "metadata": {},
     "output_type": "execute_result"
    }
   ],
   "source": [
    "chore_list[1]"
   ]
  },
  {
   "cell_type": "code",
   "execution_count": 44,
   "metadata": {},
   "outputs": [
    {
     "name": "stdout",
     "output_type": "stream",
     "text": [
      "[#<Chore:0x000000026f6b78 @interval=99, @lastdone=#<Date: 2017-06-22 ((2457927j,0s,0n),+0s,2299161j)>, @description=\"\">, #<Chore:0x000000026f68d0 @interval=30, @lastdone=#<Date: 2017-06-22 ((2457927j,0s,0n),+0s,2299161j)>, @description=\"\">]\n"
     ]
    }
   ],
   "source": [
    "chore_list.delete_at(1)\n",
    "puts chore_list"
   ]
  },
  {
   "cell_type": "code",
   "execution_count": null,
   "metadata": {
    "collapsed": true
   },
   "outputs": [],
   "source": []
  }
 ],
 "metadata": {
  "kernelspec": {
   "display_name": "Ruby 2.3.1",
   "language": "ruby",
   "name": "ruby"
  },
  "language_info": {
   "file_extension": ".rb",
   "mimetype": "application/x-ruby",
   "name": "ruby",
   "version": "2.3.1"
  }
 },
 "nbformat": 4,
 "nbformat_minor": 2
}
