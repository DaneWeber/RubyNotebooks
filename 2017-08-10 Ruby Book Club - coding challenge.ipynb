{
 "cells": [
  {
   "cell_type": "markdown",
   "metadata": {},
   "source": [
    "# 2017-08-10 Ruby Book Club - coding challenge\n",
    "Dane Weber & Joe Hunt"
   ]
  },
  {
   "cell_type": "markdown",
   "metadata": {},
   "source": [
    "# Advent 2016 - puzzle 1\n",
    "http://adventofcode.com/2016/day/1"
   ]
  },
  {
   "cell_type": "code",
   "execution_count": 29,
   "metadata": {},
   "outputs": [
    {
     "data": {
      "text/plain": [
       "\"L1, R3, R1, L5, L2, L5, R4, L2, R2, R2, L2, R1, L5, R3, L4, L1, L2, R3, R5, L2, R5, L1, R2, L5, R4, R2, R2, L1, L1, R1, L3, L1, R1, L3, R5, R3, R3, L4, R4, L2, L4, R1, R1, L193, R2, L1, R54, R1, L1, R71, L4, R3, R191, R3, R2, L4, R3, R2, L2, L4, L5, R4, R1, L2, L2, L3, L2, L1, R4, R1, R5, R3, L5, R3, R4, L2, R3, L1, L3, L3, L5, L1, L3, L3, L1, R3, L3, L2, R1, L3, L1, R5, R4, R3, R2, R3, L1, L2, R4, L3, R1, L1, L1, R5, R2, R4, R5, L1, L1, R1, L2, L4, R3, L1, L3, R5, R4, R3, R3, L2, R2, L1, R4, R2, L3, L4, L2, R2, R2, L4, R3, R5, L2, R2, R4, R5, L2, L3, L2, R5, L4, L2, R3, L5, R2, L1, R1, R3, R3, L5, L2, L2, R5\""
      ]
     },
     "execution_count": 29,
     "metadata": {},
     "output_type": "execute_result"
    }
   ],
   "source": [
    "input = 'L1, R3, R1, L5, L2, L5, R4, L2, R2, R2, L2, R1, L5, R3, L4, L1, L2, R3, R5, L2, R5, L1, R2, L5, R4, R2, R2, L1, L1, R1, L3, L1, R1, L3, R5, R3, R3, L4, R4, L2, L4, R1, R1, L193, R2, L1, R54, R1, L1, R71, L4, R3, R191, R3, R2, L4, R3, R2, L2, L4, L5, R4, R1, L2, L2, L3, L2, L1, R4, R1, R5, R3, L5, R3, R4, L2, R3, L1, L3, L3, L5, L1, L3, L3, L1, R3, L3, L2, R1, L3, L1, R5, R4, R3, R2, R3, L1, L2, R4, L3, R1, L1, L1, R5, R2, R4, R5, L1, L1, R1, L2, L4, R3, L1, L3, R5, R4, R3, R3, L2, R2, L1, R4, R2, L3, L4, L2, R2, R2, L4, R3, R5, L2, R2, R4, R5, L2, L3, L2, R5, L4, L2, R3, L5, R2, L1, R1, R3, R3, L5, L2, L2, R5'"
   ]
  },
  {
   "cell_type": "code",
   "execution_count": 30,
   "metadata": {},
   "outputs": [
    {
     "data": {
      "text/plain": [
       "[\"L1\", \"R3\", \"R1\", \"L5\", \"L2\", \"L5\", \"R4\", \"L2\", \"R2\", \"R2\", \"L2\", \"R1\", \"L5\", \"R3\", \"L4\", \"L1\", \"L2\", \"R3\", \"R5\", \"L2\", \"R5\", \"L1\", \"R2\", \"L5\", \"R4\", \"R2\", \"R2\", \"L1\", \"L1\", \"R1\", \"L3\", \"L1\", \"R1\", \"L3\", \"R5\", \"R3\", \"R3\", \"L4\", \"R4\", \"L2\", \"L4\", \"R1\", \"R1\", \"L193\", \"R2\", \"L1\", \"R54\", \"R1\", \"L1\", \"R71\", \"L4\", \"R3\", \"R191\", \"R3\", \"R2\", \"L4\", \"R3\", \"R2\", \"L2\", \"L4\", \"L5\", \"R4\", \"R1\", \"L2\", \"L2\", \"L3\", \"L2\", \"L1\", \"R4\", \"R1\", \"R5\", \"R3\", \"L5\", \"R3\", \"R4\", \"L2\", \"R3\", \"L1\", \"L3\", \"L3\", \"L5\", \"L1\", \"L3\", \"L3\", \"L1\", \"R3\", \"L3\", \"L2\", \"R1\", \"L3\", \"L1\", \"R5\", \"R4\", \"R3\", \"R2\", \"R3\", \"L1\", \"L2\", \"R4\", \"L3\", \"R1\", \"L1\", \"L1\", \"R5\", \"R2\", \"R4\", \"R5\", \"L1\", \"L1\", \"R1\", \"L2\", \"L4\", \"R3\", \"L1\", \"L3\", \"R5\", \"R4\", \"R3\", \"R3\", \"L2\", \"R2\", \"L1\", \"R4\", \"R2\", \"L3\", \"L4\", \"L2\", \"R2\", \"R2\", \"L4\", \"R3\", \"R5\", \"L2\", \"R2\", \"R4\", \"R5\", \"L2\", \"L3\", \"L2\", \"R5\", \"L4\", \"L2\", \"R3\", \"L5\", \"R2\", \"L1\", \"R1\", \"R3\", \"R3\", \"L5\", \"L2\", \"L2\", \"R5\"]"
      ]
     },
     "execution_count": 30,
     "metadata": {},
     "output_type": "execute_result"
    }
   ],
   "source": [
    "instructions = input.split(', ')"
   ]
  },
  {
   "cell_type": "code",
   "execution_count": 31,
   "metadata": {},
   "outputs": [
    {
     "data": {
      "text/plain": [
       "278"
      ]
     },
     "execution_count": 31,
     "metadata": {},
     "output_type": "execute_result"
    }
   ],
   "source": [
    "location = {x: 0, y: 0}\n",
    "# north = {x: 1, y: 0} # 0\n",
    "# east = {x: 0, y: 1} # 1\n",
    "# south = {x: -1, y: 0} # 2\n",
    "# west = {x: 0, y: -1} # 3\n",
    "facing = 2\n",
    "\n",
    "instructions.each do |step|\n",
    "  if step[0] == 'L'\n",
    "    facing -= 1\n",
    "  else   # 'R'\n",
    "    facing += 1\n",
    "  end\n",
    "  facing = facing % 4\n",
    "  blocks = step[1..-1].to_i\n",
    "  case facing\n",
    "    when 0\n",
    "    location[:y] += blocks\n",
    "    when 1\n",
    "    location[:x] += blocks\n",
    "    when 2\n",
    "    location[:y] -= blocks\n",
    "    when 3\n",
    "    location[:x] -= blocks\n",
    "  end\n",
    "end\n",
    "location[:x].abs + location[:y].abs"
   ]
  },
  {
   "cell_type": "markdown",
   "metadata": {},
   "source": [
    "^ Answer\n",
    "\n",
    "The following were testing various Ruby functions."
   ]
  },
  {
   "cell_type": "code",
   "execution_count": 32,
   "metadata": {},
   "outputs": [
    {
     "data": {
      "text/plain": [
       "\"L\""
      ]
     },
     "execution_count": 32,
     "metadata": {},
     "output_type": "execute_result"
    }
   ],
   "source": [
    "'L323'[0]"
   ]
  },
  {
   "cell_type": "code",
   "execution_count": 33,
   "metadata": {},
   "outputs": [
    {
     "data": {
      "text/plain": [
       "323"
      ]
     },
     "execution_count": 33,
     "metadata": {},
     "output_type": "execute_result"
    }
   ],
   "source": [
    "'L323'[1..-1].to_i"
   ]
  },
  {
   "cell_type": "code",
   "execution_count": 34,
   "metadata": {},
   "outputs": [
    {
     "data": {
      "text/plain": [
       "3"
      ]
     },
     "execution_count": 34,
     "metadata": {},
     "output_type": "execute_result"
    }
   ],
   "source": [
    "-1 % 4"
   ]
  },
  {
   "cell_type": "code",
   "execution_count": 35,
   "metadata": {},
   "outputs": [
    {
     "data": {
      "text/plain": [
       "5"
      ]
     },
     "execution_count": 35,
     "metadata": {},
     "output_type": "execute_result"
    }
   ],
   "source": [
    "-5.abs"
   ]
  },
  {
   "cell_type": "code",
   "execution_count": null,
   "metadata": {
    "collapsed": true
   },
   "outputs": [],
   "source": []
  }
 ],
 "metadata": {
  "kernelspec": {
   "display_name": "Ruby 2.3.1",
   "language": "ruby",
   "name": "ruby"
  },
  "language_info": {
   "file_extension": ".rb",
   "mimetype": "application/x-ruby",
   "name": "ruby",
   "version": "2.3.1"
  }
 },
 "nbformat": 4,
 "nbformat_minor": 2
}
