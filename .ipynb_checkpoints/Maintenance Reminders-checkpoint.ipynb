{
 "cells": [
  {
   "cell_type": "code",
   "execution_count": 22,
   "metadata": {},
   "outputs": [
    {
     "name": "stdout",
     "output_type": "stream",
     "text": [
      "2017-07-05\n",
      "2017-07-03\n",
      "2017-07-05\n",
      "Check credit card statement.\n"
     ]
    }
   ],
   "source": [
    "require 'date'\n",
    "class Chore\n",
    "  attr_accessor :description, :interval\n",
    "    \n",
    "  def initialize (description:, interval:)\n",
    "    @description = description\n",
    "    @interval = interval\n",
    "    @lastdone = Date.today\n",
    "  end\n",
    "  def next\n",
    "    return @lastdone + @interval\n",
    "  end\n",
    "  def last\n",
    "    return @lastdone\n",
    "  end\n",
    "  def reset\n",
    "    @lastdone = Date.today\n",
    "  end\n",
    "  def late_entry(days)\n",
    "    @lastdone -= days\n",
    "  end\n",
    "end\n",
    "test = Chore.new(description: 'Check credit card statement.', interval: 9)\n",
    "puts test.next.strftime('%Y-%m-%d')\n",
    "test.late_entry(2)\n",
    "puts test.next.strftime('%Y-%m-%d')\n",
    "test.reset\n",
    "puts test.next.strftime('%Y-%m-%d')\n",
    "puts test.description"
   ]
  },
  {
   "cell_type": "markdown",
   "metadata": {},
   "source": [
    "Array of objects."
   ]
  },
  {
   "cell_type": "code",
   "execution_count": 28,
   "metadata": {},
   "outputs": [
    {
     "name": "stdout",
     "output_type": "stream",
     "text": [
      "[\"2017-10-03\", \"2017-06-27\", \"2017-07-26\"]\n",
      "[\"Change air filter\", \"Submit timesheet\", \"Submit expenses\"]\n"
     ]
    }
   ],
   "source": [
    "chore_list = Array.new\n",
    "chore_list.push ( Chore.new(description: 'Change air filter', interval: 99) )\n",
    "chore_list.push ( Chore.new(description: 'Submit timesheet', interval: 1) )\n",
    "chore_list.push ( Chore.new(description: 'Submit expenses', interval: 30) )\n",
    "puts chore_list.map{ |x| x.next.strftime('%Y-%m-%d')}\n",
    "puts chore_list.map{ |x| x.description}"
   ]
  },
  {
   "cell_type": "code",
   "execution_count": 20,
   "metadata": {},
   "outputs": [
    {
     "data": {
      "text/plain": [
       "#<Chore:0x0000000230bab8 @description=\"Submit timesheet\", @interval=1, @lastdone=Mon, 26 Jun 2017>"
      ]
     },
     "execution_count": 20,
     "metadata": {},
     "output_type": "execute_result"
    }
   ],
   "source": [
    "chore_list[1]"
   ]
  },
  {
   "cell_type": "code",
   "execution_count": 44,
   "metadata": {},
   "outputs": [
    {
     "name": "stdout",
     "output_type": "stream",
     "text": [
      "[#<Chore:0x000000026f6b78 @interval=99, @lastdone=#<Date: 2017-06-22 ((2457927j,0s,0n),+0s,2299161j)>, @description=\"\">, #<Chore:0x000000026f68d0 @interval=30, @lastdone=#<Date: 2017-06-22 ((2457927j,0s,0n),+0s,2299161j)>, @description=\"\">]\n"
     ]
    }
   ],
   "source": [
    "chore_list.delete_at(1)\n",
    "puts chore_list"
   ]
  },
  {
   "cell_type": "code",
   "execution_count": 16,
   "metadata": {},
   "outputs": [
    {
     "data": {
      "text/plain": [
       "2017-06-26 10:00:00 -0400"
      ]
     },
     "execution_count": 16,
     "metadata": {},
     "output_type": "execute_result"
    }
   ],
   "source": [
    "require 'business_time'\n",
    "1.business_hours.from_now"
   ]
  },
  {
   "cell_type": "code",
   "execution_count": 17,
   "metadata": {},
   "outputs": [
    {
     "data": {
      "text/plain": [
       "2017-06-28 09:00:00 -0400"
      ]
     },
     "execution_count": 17,
     "metadata": {},
     "output_type": "execute_result"
    }
   ],
   "source": [
    "1.business_day.from_now "
   ]
  },
  {
   "cell_type": "code",
   "execution_count": 14,
   "metadata": {},
   "outputs": [
    {
     "data": {
      "text/plain": [
       "1"
      ]
     },
     "execution_count": 14,
     "metadata": {},
     "output_type": "execute_result"
    }
   ],
   "source": [
    "friday = Date.parse(\"December 24, 2010\")\n",
    "monday = Date.parse(\"December 27, 2010\")\n",
    "friday.business_days_until(monday) #=> 1"
   ]
  },
  {
   "cell_type": "code",
   "execution_count": null,
   "metadata": {
    "collapsed": true
   },
   "outputs": [],
   "source": []
  }
 ],
 "metadata": {
  "kernelspec": {
   "display_name": "Ruby 2.3.1",
   "language": "ruby",
   "name": "ruby"
  },
  "language_info": {
   "file_extension": ".rb",
   "mimetype": "application/x-ruby",
   "name": "ruby",
   "version": "2.3.1"
  }
 },
 "nbformat": 4,
 "nbformat_minor": 2
}
